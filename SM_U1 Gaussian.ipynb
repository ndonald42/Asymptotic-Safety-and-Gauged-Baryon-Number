{
 "cells": [
  {
   "cell_type": "code",
   "execution_count": 6,
   "id": "ec2f0d51-0a0d-4c01-90d3-7a43669b1b2c",
   "metadata": {},
   "outputs": [
    {
     "ename": "ModuleNotFoundError",
     "evalue": "No module named 'numpy'",
     "output_type": "error",
     "traceback": [
      "\u001b[1;31m---------------------------------------------------------------------------\u001b[0m",
      "\u001b[1;31mModuleNotFoundError\u001b[0m                       Traceback (most recent call last)",
      "Cell \u001b[1;32mIn[6], line 1\u001b[0m\n\u001b[1;32m----> 1\u001b[0m \u001b[38;5;28;01mimport\u001b[39;00m \u001b[38;5;21;01mnumpy\u001b[39;00m \u001b[38;5;28;01mas\u001b[39;00m \u001b[38;5;21;01mnp\u001b[39;00m\n\u001b[0;32m      2\u001b[0m \u001b[38;5;28;01mfrom\u001b[39;00m \u001b[38;5;21;01mscipy\u001b[39;00m\u001b[38;5;21;01m.\u001b[39;00m\u001b[38;5;21;01mintegrate\u001b[39;00m \u001b[38;5;28;01mimport\u001b[39;00m solve_ivp\n\u001b[0;32m      3\u001b[0m \u001b[38;5;28;01mimport\u001b[39;00m \u001b[38;5;21;01mmatplotlib\u001b[39;00m\u001b[38;5;21;01m.\u001b[39;00m\u001b[38;5;21;01mpyplot\u001b[39;00m \u001b[38;5;28;01mas\u001b[39;00m \u001b[38;5;21;01mplt\u001b[39;00m\n",
      "\u001b[1;31mModuleNotFoundError\u001b[0m: No module named 'numpy'"
     ]
    }
   ],
   "source": [
    "import numpy as np\n",
    "from scipy.integrate import solve_ivp\n",
    "import matplotlib.pyplot as plt"
   ]
  },
  {
   "cell_type": "code",
   "execution_count": null,
   "id": "3bcfc594-f7a5-447d-83d9-0283875afc8e",
   "metadata": {},
   "outputs": [],
   "source": [
    "# Constants\n",
    "fg = 0.1\n",
    "fy = 0.1\n",
    "flam = 0.1\n",
    "pi = np.pi"
   ]
  },
  {
   "cell_type": "code",
   "execution_count": null,
   "id": "b5ae6ca9-855c-4e56-8740-3994d442cec4",
   "metadata": {},
   "outputs": [],
   "source": [
    "# Define the system of differential equations below the Planck scale\n",
    "def system_below(t, y):\n",
    "    g1, g2, g3, gB, g12, yt, yb, y1, y2, y3, k1, k2, k3, L, Lp, Lm = y\n",
    "    beta = 1 / (16 * pi**2)\n",
    "    beta_lambda = 1 / (4 * pi)**2\n",
    "    \n",
    "    dg1_dt = beta * (77/10 * g1**3)\n",
    "    dg2_dt = beta * (-7/6 * g2**3)\n",
    "    dg3_dt = beta * (-7 * g3**3)\n",
    "    dgB_dt = beta * (11 * gB**3 + 77/6 * gB * g12**2 - 16/3 * gB**2 * g12)\n",
    "    dg12_dt = beta * (-16/5 * g1**2 * gB - 16/3 * gB * g12**2 + 77/5 * g1**2 * g12 +\n",
    "                      11 * gB**2 * g12 + 77/6 * g12**3)\n",
    "    dyt_dt = beta * (9/2 * yt**3 + 3/2 * yb**2 * yt + 3 * k1**2 * yt + 3 * k2**2 * yt +\n",
    "                     3 * k3**2 * yt - 17/20 * g1**2 * yt - 9/4 * g2**2 * yt -\n",
    "                     8 * g3**2 * yt - 2/3 * gB**2 * yt - 5/3 * gB * g12 * yt -\n",
    "                     17/12 * g12**2 * yt)\n",
    "    dyb_dt = beta * (3/2 * yt**2 * yb + 9/2 * yb**3 + 3 * k1**2 * yb + 3 * k2**2 * yb +\n",
    "                     3 * k3**2 * yb - 1/4 * g1**2 * yb - 9/4 * g2**2 * yb -\n",
    "                     8 * g3**2 * yb - 2/3 * gB**2 * yb + 1/3 * gB * g12 * yb -\n",
    "                     5/12 * g12**2 * yb)\n",
    "    dy1_dt = beta * (7 * y1**3 + 1/2 * k1**2 * y1 + 3 * y2**2 * y1 + 3 * y3**2 * y1 -\n",
    "                     9/10 * g1**2 * y1 - 9/2 * g2**2 * y1 - 3 * gB**2 * y1 +\n",
    "                     3 * gB * g12 * y1 - 3/2 * g12**2 * y1)\n",
    "    dy2_dt = beta * (4 * y2**3 + k2**2 * y2 + 6 * y1**2 * y2 + 3 * y3**2 * y2 -\n",
    "                     18/5 * g1**2 * y2 - 3 * gB**2 * y2 + 6 * gB * g12 * y2 -\n",
    "                     6 * g12**2 * y2)\n",
    "    dy3_dt = beta * (4 * y3**3 + k3**2 * y3 + 6 * y1**2 * y3 + 3 * y2**2 * y3 -\n",
    "                     3 * gB**2 * y3)\n",
    "    dk1_dt = beta * (3 * yt**2 * k1 + 3 * yb**2 * k1 + 1/2 * y1**2 * k1 + 9/2 * k1**3 +\n",
    "                     3 * k2**2 * k1 + 3 * k3**2 * k1 - 9/4 * g1**2 * k1 -\n",
    "                     9/4 * g2**2 * k1 - 15/4 * g12**2 * k1)\n",
    "    dk2_dt = beta * (3 * yt**2 * k2 + 3 * yb**2 * k2 + 1/2 * y2**2 * k2 + 3 * k1**2 * k2 +\n",
    "                     9/2 * k2**3 + 3/2 * k3**2 * k2 - 9/4 * g1**2 * k2 -\n",
    "                     9/4 * g2**2 * k2 - 15/4 * g12**2 * k2)\n",
    "    dk3_dt = beta * (3 * yt**2 * k3 + 3 * yb**2 * k3 + 1/2 * y3**2 * k3 + 3 * k1**2 * k3 +\n",
    "                     3/2 * k2**2 * k3 + 9/2 * k3**3 - 9/20 * g1**2 * k3 -\n",
    "                     9/4 * g2**2 * k3 - 3/4 * g12**2 * k3)\n",
    "    dL_dt = beta_lambda * (12 * L**2 + 2 * Lm**2 - 9/5 * g1**2 * L - 3 * g12**2 * L -\n",
    "                           9 * g2**2 * L + 27/100 * g1**4 + 9/10 * g1**2 * g12**2 +\n",
    "                           9/10 * g1**2 * g2**2 + 3/4 * g12**4 + 3/2 * g2**2 * g12**2 +\n",
    "                           9/4 * g2**4 + 12 * yt**2 * L + 12 * yb**2 * L + 12 * k1**2 * L +\n",
    "                           12 * k2**2 * L + 12 * k3**2 * L - 12 * yt**4 - 12 * yb**4 -\n",
    "                           12 * k1**4 - 12 * k2**4 - 12 * k3**4)\n",
    "    dLp_dt = beta_lambda * (10 * Lp**2 + 4 * Lm**2 - 12 * gB**2 * Lp + 12 * gB**4 +\n",
    "                            24 * y1**2 * Lp + 12 * y2**2 * Lp + 12 * y3**2 * Lp -\n",
    "                            24 * y1**4 - 12 * y2**4 - 12 * y3**4)\n",
    "    dLm_dt = beta_lambda * (6 * L * Lm + 4 * Lm * Lp + 4 * Lm**2 - 9/10 * g1**2 * Lm -\n",
    "                            6 * gB**2 * Lm - 3/2 * g12**2 * Lm - 9/2 * g2**2 * Lm +\n",
    "                            3 * g12**2 * gB**2 + 6 * yt**2 * Lm + 6 * yb**2 * Lm +\n",
    "                            12 * y1**2 * Lm + 6 * y2**2 * Lm + 6 * y3**2 * Lm +\n",
    "                            6 * k1**2 * Lm + 6 * k2**2 * Lm + 6 * k3**2 * Lm -\n",
    "                            12 * y1**2 * k1**2 - 12 * y2**2 * k2**2 - 12 * y3**2 * k3**2)\n",
    "    \n",
    "    return [dg1_dt, dg2_dt, dg3_dt, dgB_dt, dg12_dt, dyt_dt, dyb_dt, dy1_dt, dy2_dt,\n",
    "            dy3_dt, dk1_dt, dk2_dt, dk3_dt, dL_dt, dLp_dt, dLm_dt]"
   ]
  },
  {
   "cell_type": "code",
   "execution_count": null,
   "id": "a9ab5af9-e34d-49f5-b377-5ca8548e7eae",
   "metadata": {},
   "outputs": [],
   "source": [
    "# Define the system of differential equations above the Planck scale\n",
    "def system_above(t, y):\n",
    "    g1n, g2n, g3n, gBn, g12n, ytn, ybn, y1n, y2n, y3n, k1n, k2n, k3n, Ln, Lpn, Lmn = y\n",
    "    beta = 1 / (16 * pi**2)\n",
    "    beta_lambda = 1 / (4 * pi)**2\n",
    "    \n",
    "    dg1n_dt = beta * (77/10 * g1n**3) - fg * g1n\n",
    "    dg2n_dt = beta * (-7/6 * g2n**3) - fg * g2n\n",
    "    dg3n_dt = beta * (-7 * g3n**3) - fg * g3n\n",
    "    dgBn_dt = beta * (11 * gBn**3 + 77/6 * gBn * g12n**2 - 16/3 * gBn**2 * g12n) - fg * gBn\n",
    "    dg12n_dt = beta * (-16/5 * g1n**2 * gBn - 16/3 * gBn * g12n**2 + 77/5 * g1n**2 * g12n +\n",
    "                       11 * gBn**2 * g12n + 77/6 * g12n**3) - fg * g12n\n",
    "    dytn_dt = beta * (9/2 * ytn**3 + 3/2 * ybn**2 * ytn + 3 * k1n**2 * ytn + 3 * k2n**2 * ytn +\n",
    "                      3 * k3n**2 * ytn - 17/20 * g1n**2 * ytn - 9/4 * g2n**2 * ytn -\n",
    "                      8 * g3n**2 * ytn - 2/3 * gBn**2 * ytn - 5/3 * gBn * g12n * ytn -\n",
    "                      17/12 * g12n**2 * ytn) - fy * ytn\n",
    "    dybn_dt = beta * (3/2 * ytn**2 * ybn + 9/2 * ybn**3 + 3 * k1n**2 * ybn + 3 * k2n**2 * ybn +\n",
    "                      3 * k3n**2 * ybn - 1/4 * g1n**2 * ybn - 9/4 * g2n**2 * ybn -\n",
    "                      8 * g3n**2 * ybn - 2/3 * gBn**2 * ybn + 1/3 * gBn * g12n * ybn -\n",
    "                      5/12 * g12n**2 * ybn) - fy * ybn\n",
    "    dy1n_dt = beta * (7 * y1n**3 + 1/2 * k1n**2 * y1n + 3 * y2n**2 * y1n + 3 * y3n**2 * y1n -\n",
    "                      9/10 * g1n**2 * y1n - 9/2 * g2n**2 * y1n - 3 * gBn**2 * y1n +\n",
    "                      3 * gBn * g12n * y1n - 3/2 * g12n**2 * y1n) - fy * y1n\n",
    "    dy2n_dt = beta * (4 * y2n**3 + k2n**2 * y2n + 6 * y1n**2 * y2n + 3 * y3n**2 * y2n -\n",
    "                      18/5 * g1n**2 * y2n - 3 * gBn**2 * y2n + 6 * gBn * g12n * y2n -\n",
    "                      6 * g12n**2 * y2n) - fy * y2n\n",
    "    dy3n_dt = beta * (4 * y3n**3 + k3n**2 * y3n + 6 * y1n**2 * y3n + 3 * y2n**2 * y3n -\n",
    "                      3 * gBn**2 * y3n) - fy * y3n\n",
    "    dk1n_dt = beta * (3 * ytn**2 * k1n + 3 * ybn**2 * k1n + 1/2 * y1n**2 * k1n + 9/2 * k1n**3 +\n",
    "                      3 * k2n**2 * k1n + 3 * k3n**2 * k1n - 9/4 * g1n**2 * k1n -\n",
    "                      9/4 * g2n**2 * k1n - 15/4 * g12n**2 * k1n) - fy * k1n\n",
    "    dk2n_dt = beta * (3 * ytn**2 * k2n + 3 * ybn**2 * k2n + 1/2 * y2n**2 * k2n + 3 * k1n**2 * k2n +\n",
    "                      9/2 * k2n**3 + 3/2 * k3n**2 * k2n - 9/4 * g1n**2 * k2n -\n",
    "                      9/4 * g2n**2 * k2n - 15/4 * g12n**2 * k2n) - fy * k2n\n",
    "    dk3n_dt = beta * (3 * ytn**2 * k3n + 3 * ybn**2 * k3n + 1/2 * y3n**2 * k3n + 3 * k1n**2 * k3n +\n",
    "                      3/2 * k2n**2 * k3n + 9/2 * k3n**3 - 9/20 * g1n**2 * k3n -\n",
    "                      9/4 * g2n**2 * k3n - 3/4 * g12n**2 * k3n) - fy * k3n\n",
    "    dLn_dt = beta_lambda * (12 * Ln**2 + 2 * Lmn**2 - 9/5 * g1n**2 * Ln - 3 * g12n**2 * Ln -\n",
    "                            9 * g2n**2 * Ln + 27/100 * g1n**4 + 9/10 * g1n**2 * g12n**2 +\n",
    "                            9/10 * g1n**2 * g2n**2 + 3/4 * g12n**4 + 3/2 * g2n**2 * g12n**2 +\n",
    "                            9/4 * g2n**4 + 12 * ytn**2 * Ln + 12 * ybn**2 * Ln + 12 * k1n**2 * Ln +\n",
    "                            12 * k2n**2 * Ln + 12 * k3n**2 * Ln - 12 * ytn**4 - 12 * ybn**4 -\n",
    "                            12 * k1n**4 - 12 * k2n**4 - 12 * k3n**4) - flam * Ln\n",
    "    dLpn_dt = beta_lambda * (10 * Lpn**2 + 4 * Lmn**2 - 12 * gBn**2 * Lpn + 12 * gBn**4 +\n",
    "                             24 * y1n**2 * Lpn + 12 * y2n**2 * Lpn + 12 * y3n**2 * Lpn -\n",
    "                             24 * y1n**4 - 12 * y2n**4 - 12 * y3n**4) - flam * Lpn\n",
    "    dLmn_dt = beta_lambda * (6 * Ln * Lmn + 4 * Lmn * Lpn + 4 * Lmn**2 - 9/10 * g1n**2 * Lmn -\n",
    "                             6 * gBn**2 * Lmn - 3/2 * g12n**2 * Lmn - 9/2 * g2n**2 * Lmn +\n",
    "                             3 * g12n**2 * gBn**2 + 6 * ytn**2 * Lmn + 6 * ybn**2 * Lmn +\n",
    "                             12 * y1n**2 * Lmn + 6 * y2n**2 * Lmn + 6 * y3n**2 * Lmn +\n",
    "                             6 * k1n**2 * Lmn + 6 * k2n**2 * Lmn + 6 * k3n**2 * Lmn -\n",
    "                             12 * y1n**2 * k1n**2 - 12 * y2n**2 * k2n**2 - 12 * y3n**2 * k3n**2) - flam * Lmn\n",
    "    \n",
    "    return [dg1n_dt, dg2n_dt, dg3n_dt, dgBn_dt, dg12n_dt, dytn_dt, dybn_dt, dy1n_dt, dy2n_dt,\n",
    "            dy3n_dt, dk1n_dt, dk2n_dt, dk3n_dt, dLn_dt, dLpn_dt, dLmn_dt]"
   ]
  },
  {
   "cell_type": "code",
   "execution_count": null,
   "id": "5c9c4c73-1ee0-4c80-80ee-829d21215aaf",
   "metadata": {},
   "outputs": [],
   "source": [
    "# Initial conditions for below the Planck scale (t = 0)\n",
    "y0_below = [0.46738, 0.63829, 1.05737, 0.3, 0.14988 - 0.00000037335, 0.85322, 0.01388,\n",
    "            0.1, 0.1, 0.1, 0.1, 0.1, 0.1, 0.25828, 0.2, -0.004]"
   ]
  },
  {
   "cell_type": "code",
   "execution_count": null,
   "id": "6b66a778-93f6-41f5-927e-239f8d443f6c",
   "metadata": {},
   "outputs": [],
   "source": [
    "# Solve the system below the Planck scale (t = 0 to t = 37.0237)\n",
    "t_below = (0, 37.0237)\n",
    "sol_below = solve_ivp(system_below, t_below, y0_below, method='RK45', rtol=1e-12, atol=1e-15)"
   ]
  },
  {
   "cell_type": "code",
   "execution_count": null,
   "id": "e87d0ef5-6a9e-44a3-af50-373367ea797a",
   "metadata": {},
   "outputs": [],
   "source": [
    "# Extract solutions at t = 37.0237 for initial conditions above the Planck scale\n",
    "t_eval = np.linspace(0, 37.0237, 1000)\n",
    "sol_below_eval = solve_ivp(system_below, t_below, y0_below, method='RK45', t_eval=t_eval,\n",
    "                           rtol=1e-12, atol=1e-15)\n",
    "y0_above = sol_below_eval.y[:, -1]  # Values at t = 37.0237"
   ]
  },
  {
   "cell_type": "code",
   "execution_count": null,
   "id": "7f4e5304-b804-4a45-add9-133c2d85a868",
   "metadata": {},
   "outputs": [],
   "source": [
    "# Solve the system above the Planck scale (t = 37.0237 to t = 137.0237)\n",
    "t_above = (37.0237, 137.0237)\n",
    "sol_above = solve_ivp(system_above, t_above, y0_above, method='RK45', rtol=1e-12, atol=1e-15)"
   ]
  },
  {
   "cell_type": "code",
   "execution_count": null,
   "id": "2139fe93-5295-4c38-9b3b-54ab00545447",
   "metadata": {},
   "outputs": [],
   "source": [
    "# Combine solutions for plotting\n",
    "t_above_eval = np.linspace(37.0237, 137.0237, 1000)\n",
    "sol_above_eval = solve_ivp(system_above, t_above, y0_above, method='RK45', t_eval=t_above_eval,\n",
    "                           rtol=1e-12, atol=1e-15)"
   ]
  },
  {
   "cell_type": "code",
   "execution_count": null,
   "id": "5d85dc26-f800-4014-ba28-0844b7fad68e",
   "metadata": {},
   "outputs": [],
   "source": [
    "# Plotting\n",
    "# Gauge couplings plot\n",
    "plt.figure(figsize=(10, 6))\n",
    "plt.plot(sol_below_eval.t, sol_below_eval.y[0], label=r'$g_1$')\n",
    "plt.plot(sol_below_eval.t, sol_below_eval.y[1], label=r'$g_2$')\n",
    "plt.plot(sol_below_eval.t, sol_below_eval.y[2], label=r'$g_3$')\n",
    "plt.plot(sol_below_eval.t, sol_below_eval.y[3], label=r'$g_B$')\n",
    "plt.plot(sol_below_eval.t, sol_below_eval.y[4], label=r'$\\tilde{g}$')\n",
    "plt.plot(sol_above_eval.t, sol_above_eval.y[0], label=r'$g_1$', linestyle='--')\n",
    "plt.plot(sol_above_eval.t, sol_above_eval.y[1], label=r'$g_2$', linestyle='--')\n",
    "plt.plot(sol_above_eval.t, sol_above_eval.y[2], label=r'$g_3$', linestyle='--')\n",
    "plt.plot(sol_above_eval.t, sol_above_eval.y[3], label=r'$g_B$', linestyle='--')\n",
    "plt.plot(sol_above_eval.t, sol_above_eval.y[4], label=r'$\\tilde{g}$', linestyle='--')\n",
    "plt.xlabel(r'$\\ln(\\mu / 1 \\, \\mathrm{TeV})$')\n",
    "plt.ylabel('Gauge Couplings')\n",
    "plt.grid(True)\n",
    "plt.legend()\n",
    "plt.title('Gauge Couplings Evolution')\n",
    "plt.show()"
   ]
  },
  {
   "cell_type": "code",
   "execution_count": null,
   "id": "58e302ef-f652-417e-ab14-8ebbd6e5efa9",
   "metadata": {},
   "outputs": [],
   "source": [
    "# Yukawa couplings plot 1 (yt, yb)\n",
    "plt.figure(figsize=(10, 6))\n",
    "plt.plot(sol_below_eval.t, sol_below_eval.y[5], label=r'$y_t$')\n",
    "plt.plot(sol_below_eval.t, sol_below_eval.y[6], label=r'$y_b$')\n",
    "plt.plot(sol_above_eval.t, sol_above_eval.y[5], label=r'$y_t$', linestyle='--')\n",
    "plt.plot(sol_above_eval.t, sol_above_eval.y[6], label=r'$y_b$', linestyle='--')\n",
    "plt.xlabel(r'$\\ln(\\mu / 1 \\, \\mathrm{TeV})$')\n",
    "plt.ylabel('Yukawa Couplings')\n",
    "plt.grid(True)\n",
    "plt.legend()\n",
    "plt.title('Yukawa Couplings (yt, yb) Evolution')\n",
    "plt.show()"
   ]
  },
  {
   "cell_type": "code",
   "execution_count": null,
   "id": "6a979374-c85f-43db-abbd-ee469f24ea7d",
   "metadata": {},
   "outputs": [],
   "source": [
    "# Yukawa couplings plot 2 (y1, y2, y3)\n",
    "plt.figure(figsize=(10, 6))\n",
    "plt.plot(sol_below_eval.t, sol_below_eval.y[7], label=r'$y_1$')\n",
    "plt.plot(sol_below_eval.t, sol_below_eval.y[8], label=r'$y_2$')\n",
    "plt.plot(sol_below_eval.t, sol_below_eval.y[9], label=r'$y_3$')\n",
    "plt.plot(sol_above_eval.t, sol_above_eval.y[7], label=r'$y_1$', linestyle='--')\n",
    "plt.plot(sol_above_eval.t, sol_above_eval.y[8], label=r'$y_2$', linestyle='--')\n",
    "plt.plot(sol_above_eval.t, sol_above_eval.y[9], label=r'$y_3$', linestyle='--')\n",
    "plt.xlabel(r'$\\ln(\\mu / 1 \\, \\mathrm{TeV})$')\n",
    "plt.ylabel('Yukawa Couplings')\n",
    "plt.grid(True)\n",
    "plt.legend()\n",
    "plt.title('Yukawa Couplings (y1, y2, y3) Evolution')\n",
    "plt.show()"
   ]
  },
  {
   "cell_type": "code",
   "execution_count": null,
   "id": "fae37100-2b9b-4852-8ede-d0855a14c256",
   "metadata": {},
   "outputs": [],
   "source": [
    "# Yukawa couplings plot 3 (k1, k2, k3)\n",
    "plt.figure(figsize=(10, 6))\n",
    "plt.plot(sol_below_eval.t, sol_below_eval.y[10], label=r'$\\kappa_1$')\n",
    "plt.plot(sol_below_eval.t, sol_below_eval.y[11], label=r'$\\kappa_2$')\n",
    "plt.plot(sol_below_eval.t, sol_below_eval.y[12], label=r'$\\kappa_3$')\n",
    "plt.plot(sol_above_eval.t, sol_above_eval.y[10], label=r'$\\kappa_1$', linestyle='--')\n",
    "plt.plot(sol_above_eval.t, sol_above_eval.y[11], label=r'$\\kappa_2$', linestyle='--')\n",
    "plt.plot(sol_above_eval.t, sol_above_eval.y[12], label=r'$\\kappa_3$', linestyle='--')\n",
    "plt.xlabel(r'$\\ln(\\mu / 1 \\, \\mathrm{TeV})$')\n",
    "plt.ylabel('Yukawa Couplings')\n",
    "plt.grid(True)\n",
    "plt.legend()\n",
    "plt.title('Yukawa Couplings (k1, k2, k3) Evolution')\n",
    "plt.show()"
   ]
  },
  {
   "cell_type": "code",
   "execution_count": null,
   "id": "339141a8-54df-4a33-be64-437ab5264f5f",
   "metadata": {},
   "outputs": [],
   "source": [
    "# Scalar couplings plot (L, Lp, Lm)\n",
    "plt.figure(figsize=(10, 6))\n",
    "plt.plot(sol_below_eval.t, sol_below_eval.y[13], label=r'$\\lambda$')\n",
    "plt.plot(sol_below_eval.t, sol_below_eval.y[14], label=r'$\\lambda_p$')\n",
    "plt.plot(sol_below_eval.t, sol_below_eval.y[15], label=r'$\\lambda_m$')\n",
    "plt.plot(sol_above_eval.t, sol_above_eval.y[13], label=r'$\\lambda$', linestyle='--')\n",
    "plt.plot(sol_above_eval.t, sol_above_eval.y[14], label=r'$\\lambda_p$', linestyle='--')\n",
    "plt.plot(sol_above_eval.t, sol_above_eval.y[15], label=r'$\\lambda_m$', linestyle='--')\n",
    "plt.xlabel(r'$\\ln(\\mu / 1 \\, \\mathrm{TeV})$')\n",
    "plt.ylabel('Scalar Couplings')\n",
    "plt.grid(True)\n",
    "plt.legend()\n",
    "plt.title('Scalar Couplings Evolution')\n",
    "plt.show()"
   ]
  }
 ],
 "metadata": {
  "kernelspec": {
   "display_name": "Python 3 (ipykernel)",
   "language": "python",
   "name": "python3"
  },
  "language_info": {
   "codemirror_mode": {
    "name": "ipython",
    "version": 3
   },
   "file_extension": ".py",
   "mimetype": "text/x-python",
   "name": "python",
   "nbconvert_exporter": "python",
   "pygments_lexer": "ipython3",
   "version": "3.12.4"
  }
 },
 "nbformat": 4,
 "nbformat_minor": 5
}
